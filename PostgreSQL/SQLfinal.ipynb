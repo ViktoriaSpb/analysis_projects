{
 "cells": [
  {
   "cell_type": "markdown",
   "id": "33df38e7",
   "metadata": {},
   "source": [
    "# Исследовательская работа с базой данных PostgreSQL "
   ]
  },
  {
   "cell_type": "markdown",
   "id": "647ecdd9",
   "metadata": {},
   "source": [
    "\n",
    "\n",
    "Работа от имени аналитика крупного сервиса для чтения книг по подписке. \n",
    "<br/> Задача — проанализировать базу данных.\n",
    "В ней — информация о книгах, издательствах, авторах, а также пользовательские обзоры книг. \n",
    "<br/> Цель - формулировка ценностного предложения для нового продукта.\n",
    "\n",
    "<br/> Структура базы данных: \n",
    "![Схема БД](https://concrete-web-bad.notion.site/image/https%3A%2F%2Fs3-us-west-2.amazonaws.com%2Fsecure.notion-static.com%2F069818d1-0e5c-4d87-a461-0de584ab9c33%2FUntitled_(33).png?id=bd53c8db-b4fd-49eb-8cc9-572ebb3c9163&table=block&spaceId=9e4bd47b-c6e6-4ca3-bcee-279794b47315&width=1640&userId=&cache=v2)"
   ]
  },
  {
   "cell_type": "markdown",
   "id": "f8850992",
   "metadata": {},
   "source": [
    "## Загрузка и просмотр таблиц БД"
   ]
  },
  {
   "cell_type": "code",
   "execution_count": 1,
   "id": "d627a442",
   "metadata": {},
   "outputs": [],
   "source": [
    "# импорт небходимых библиотек\n",
    "import pandas as pd\n",
    "from sqlalchemy import text, create_engine"
   ]
  },
  {
   "cell_type": "code",
   "execution_count": 2,
   "id": "15775f54",
   "metadata": {},
   "outputs": [],
   "source": [
    "# установка параметров\n",
    "db_config = {'user': 'praktikum_student', # имя пользователя\n",
    "             'pwd': 'Sdf4$2;d-d30pp', # пароль\n",
    "             'host': 'rc1b-wcoijxj3yxfsf3fs.mdb.yandexcloud.net',\n",
    "             'port': 6432, # порт подключения\n",
    "             'db': 'data-analyst-final-project-db'} # название базы данных\n",
    "\n",
    "connection_string = 'postgresql://{user}:{pwd}@{host}:{port}/{db}'.format(**db_config)\n",
    "\n",
    "# сохранение коннектора\n",
    "engine = create_engine(connection_string, connect_args={'sslmode':'require'})\n",
    "\n",
    "con=engine.connect()"
   ]
  },
  {
   "cell_type": "code",
   "execution_count": 3,
   "id": "bc816ad3",
   "metadata": {},
   "outputs": [
    {
     "data": {
      "text/html": [
       "<div>\n",
       "<style scoped>\n",
       "    .dataframe tbody tr th:only-of-type {\n",
       "        vertical-align: middle;\n",
       "    }\n",
       "\n",
       "    .dataframe tbody tr th {\n",
       "        vertical-align: top;\n",
       "    }\n",
       "\n",
       "    .dataframe thead th {\n",
       "        text-align: right;\n",
       "    }\n",
       "</style>\n",
       "<table border=\"1\" class=\"dataframe\">\n",
       "  <thead>\n",
       "    <tr style=\"text-align: right;\">\n",
       "      <th></th>\n",
       "      <th>book_id</th>\n",
       "      <th>author_id</th>\n",
       "      <th>title</th>\n",
       "      <th>num_pages</th>\n",
       "      <th>publication_date</th>\n",
       "      <th>publisher_id</th>\n",
       "    </tr>\n",
       "  </thead>\n",
       "  <tbody>\n",
       "    <tr>\n",
       "      <th>0</th>\n",
       "      <td>1</td>\n",
       "      <td>546</td>\n",
       "      <td>'Salem's Lot</td>\n",
       "      <td>594</td>\n",
       "      <td>2005-11-01</td>\n",
       "      <td>93</td>\n",
       "    </tr>\n",
       "    <tr>\n",
       "      <th>1</th>\n",
       "      <td>2</td>\n",
       "      <td>465</td>\n",
       "      <td>1 000 Places to See Before You Die</td>\n",
       "      <td>992</td>\n",
       "      <td>2003-05-22</td>\n",
       "      <td>336</td>\n",
       "    </tr>\n",
       "    <tr>\n",
       "      <th>2</th>\n",
       "      <td>3</td>\n",
       "      <td>407</td>\n",
       "      <td>13 Little Blue Envelopes (Little Blue Envelope...</td>\n",
       "      <td>322</td>\n",
       "      <td>2010-12-21</td>\n",
       "      <td>135</td>\n",
       "    </tr>\n",
       "    <tr>\n",
       "      <th>3</th>\n",
       "      <td>4</td>\n",
       "      <td>82</td>\n",
       "      <td>1491: New Revelations of the Americas Before C...</td>\n",
       "      <td>541</td>\n",
       "      <td>2006-10-10</td>\n",
       "      <td>309</td>\n",
       "    </tr>\n",
       "    <tr>\n",
       "      <th>4</th>\n",
       "      <td>5</td>\n",
       "      <td>125</td>\n",
       "      <td>1776</td>\n",
       "      <td>386</td>\n",
       "      <td>2006-07-04</td>\n",
       "      <td>268</td>\n",
       "    </tr>\n",
       "  </tbody>\n",
       "</table>\n",
       "</div>"
      ],
      "text/plain": [
       "   book_id  author_id                                              title  \\\n",
       "0        1        546                                       'Salem's Lot   \n",
       "1        2        465                 1 000 Places to See Before You Die   \n",
       "2        3        407  13 Little Blue Envelopes (Little Blue Envelope...   \n",
       "3        4         82  1491: New Revelations of the Americas Before C...   \n",
       "4        5        125                                               1776   \n",
       "\n",
       "   num_pages publication_date  publisher_id  \n",
       "0        594       2005-11-01            93  \n",
       "1        992       2003-05-22           336  \n",
       "2        322       2010-12-21           135  \n",
       "3        541       2006-10-10           309  \n",
       "4        386       2006-07-04           268  "
      ]
     },
     "execution_count": 3,
     "metadata": {},
     "output_type": "execute_result"
    }
   ],
   "source": [
    "# загрузка и просмотр пяти строк таблицы books\n",
    "query = '''\n",
    "SELECT *\n",
    "FROM books\n",
    "LIMIT 5;\n",
    "        '''\n",
    "\n",
    "pd.io.sql.read_sql(sql=text(query), con = con)"
   ]
  },
  {
   "cell_type": "markdown",
   "id": "906ee95d",
   "metadata": {},
   "source": [
    "**Таблица `books`**\n",
    "\n",
    "Содержит данные о книгах:\n",
    "\n",
    "- `book_id` — идентификатор книги;\n",
    "- `author_id` — идентификатор автора;\n",
    "- `title` — название книги;\n",
    "- `num_pages` — количество страниц;\n",
    "- `publication_date` — дата публикации книги;\n",
    "- `publisher_id` — идентификатор издателя."
   ]
  },
  {
   "cell_type": "code",
   "execution_count": 4,
   "id": "39f84cc5",
   "metadata": {},
   "outputs": [
    {
     "data": {
      "text/html": [
       "<div>\n",
       "<style scoped>\n",
       "    .dataframe tbody tr th:only-of-type {\n",
       "        vertical-align: middle;\n",
       "    }\n",
       "\n",
       "    .dataframe tbody tr th {\n",
       "        vertical-align: top;\n",
       "    }\n",
       "\n",
       "    .dataframe thead th {\n",
       "        text-align: right;\n",
       "    }\n",
       "</style>\n",
       "<table border=\"1\" class=\"dataframe\">\n",
       "  <thead>\n",
       "    <tr style=\"text-align: right;\">\n",
       "      <th></th>\n",
       "      <th>author_id</th>\n",
       "      <th>author</th>\n",
       "    </tr>\n",
       "  </thead>\n",
       "  <tbody>\n",
       "    <tr>\n",
       "      <th>0</th>\n",
       "      <td>1</td>\n",
       "      <td>A.S. Byatt</td>\n",
       "    </tr>\n",
       "    <tr>\n",
       "      <th>1</th>\n",
       "      <td>2</td>\n",
       "      <td>Aesop/Laura Harris/Laura Gibbs</td>\n",
       "    </tr>\n",
       "    <tr>\n",
       "      <th>2</th>\n",
       "      <td>3</td>\n",
       "      <td>Agatha Christie</td>\n",
       "    </tr>\n",
       "    <tr>\n",
       "      <th>3</th>\n",
       "      <td>4</td>\n",
       "      <td>Alan Brennert</td>\n",
       "    </tr>\n",
       "    <tr>\n",
       "      <th>4</th>\n",
       "      <td>5</td>\n",
       "      <td>Alan Moore/David   Lloyd</td>\n",
       "    </tr>\n",
       "  </tbody>\n",
       "</table>\n",
       "</div>"
      ],
      "text/plain": [
       "   author_id                          author\n",
       "0          1                      A.S. Byatt\n",
       "1          2  Aesop/Laura Harris/Laura Gibbs\n",
       "2          3                 Agatha Christie\n",
       "3          4                   Alan Brennert\n",
       "4          5        Alan Moore/David   Lloyd"
      ]
     },
     "execution_count": 4,
     "metadata": {},
     "output_type": "execute_result"
    }
   ],
   "source": [
    "# загрузка и просмотр пяти строк таблицы authors\n",
    "query = '''\n",
    "SELECT *\n",
    "FROM authors\n",
    "LIMIT 5;\n",
    "         '''\n",
    "\n",
    "pd.io.sql.read_sql(sql=text(query), con = con)"
   ]
  },
  {
   "cell_type": "markdown",
   "id": "255ae1bc",
   "metadata": {},
   "source": [
    "**Таблица `authors`**\n",
    "\n",
    "Содержит данные об авторах:\n",
    "\n",
    "- `author_id` — идентификатор автора;\n",
    "- `author` — имя автора."
   ]
  },
  {
   "cell_type": "code",
   "execution_count": 5,
   "id": "71356190",
   "metadata": {},
   "outputs": [
    {
     "data": {
      "text/html": [
       "<div>\n",
       "<style scoped>\n",
       "    .dataframe tbody tr th:only-of-type {\n",
       "        vertical-align: middle;\n",
       "    }\n",
       "\n",
       "    .dataframe tbody tr th {\n",
       "        vertical-align: top;\n",
       "    }\n",
       "\n",
       "    .dataframe thead th {\n",
       "        text-align: right;\n",
       "    }\n",
       "</style>\n",
       "<table border=\"1\" class=\"dataframe\">\n",
       "  <thead>\n",
       "    <tr style=\"text-align: right;\">\n",
       "      <th></th>\n",
       "      <th>publisher_id</th>\n",
       "      <th>publisher</th>\n",
       "    </tr>\n",
       "  </thead>\n",
       "  <tbody>\n",
       "    <tr>\n",
       "      <th>0</th>\n",
       "      <td>1</td>\n",
       "      <td>Ace</td>\n",
       "    </tr>\n",
       "    <tr>\n",
       "      <th>1</th>\n",
       "      <td>2</td>\n",
       "      <td>Ace Book</td>\n",
       "    </tr>\n",
       "    <tr>\n",
       "      <th>2</th>\n",
       "      <td>3</td>\n",
       "      <td>Ace Books</td>\n",
       "    </tr>\n",
       "    <tr>\n",
       "      <th>3</th>\n",
       "      <td>4</td>\n",
       "      <td>Ace Hardcover</td>\n",
       "    </tr>\n",
       "    <tr>\n",
       "      <th>4</th>\n",
       "      <td>5</td>\n",
       "      <td>Addison Wesley Publishing Company</td>\n",
       "    </tr>\n",
       "  </tbody>\n",
       "</table>\n",
       "</div>"
      ],
      "text/plain": [
       "   publisher_id                          publisher\n",
       "0             1                                Ace\n",
       "1             2                           Ace Book\n",
       "2             3                          Ace Books\n",
       "3             4                      Ace Hardcover\n",
       "4             5  Addison Wesley Publishing Company"
      ]
     },
     "execution_count": 5,
     "metadata": {},
     "output_type": "execute_result"
    }
   ],
   "source": [
    "# загрузка и просмотр пяти строк таблицы publishers\n",
    "query = '''\n",
    "SELECT *\n",
    "FROM publishers\n",
    "LIMIT 5;\n",
    "         '''\n",
    "\n",
    "pd.io.sql.read_sql(sql=text(query), con = con)"
   ]
  },
  {
   "cell_type": "markdown",
   "id": "99f7713e",
   "metadata": {},
   "source": [
    "**Таблица `publishers`**\n",
    "\n",
    "Содержит данные об издательствах:\n",
    "\n",
    "- `publisher_id` — идентификатор издательства;\n",
    "- `publisher` — название издательства;"
   ]
  },
  {
   "cell_type": "code",
   "execution_count": 6,
   "id": "a6b27c86",
   "metadata": {},
   "outputs": [
    {
     "data": {
      "text/html": [
       "<div>\n",
       "<style scoped>\n",
       "    .dataframe tbody tr th:only-of-type {\n",
       "        vertical-align: middle;\n",
       "    }\n",
       "\n",
       "    .dataframe tbody tr th {\n",
       "        vertical-align: top;\n",
       "    }\n",
       "\n",
       "    .dataframe thead th {\n",
       "        text-align: right;\n",
       "    }\n",
       "</style>\n",
       "<table border=\"1\" class=\"dataframe\">\n",
       "  <thead>\n",
       "    <tr style=\"text-align: right;\">\n",
       "      <th></th>\n",
       "      <th>rating_id</th>\n",
       "      <th>book_id</th>\n",
       "      <th>username</th>\n",
       "      <th>rating</th>\n",
       "    </tr>\n",
       "  </thead>\n",
       "  <tbody>\n",
       "    <tr>\n",
       "      <th>0</th>\n",
       "      <td>1</td>\n",
       "      <td>1</td>\n",
       "      <td>ryanfranco</td>\n",
       "      <td>4</td>\n",
       "    </tr>\n",
       "    <tr>\n",
       "      <th>1</th>\n",
       "      <td>2</td>\n",
       "      <td>1</td>\n",
       "      <td>grantpatricia</td>\n",
       "      <td>2</td>\n",
       "    </tr>\n",
       "    <tr>\n",
       "      <th>2</th>\n",
       "      <td>3</td>\n",
       "      <td>1</td>\n",
       "      <td>brandtandrea</td>\n",
       "      <td>5</td>\n",
       "    </tr>\n",
       "    <tr>\n",
       "      <th>3</th>\n",
       "      <td>4</td>\n",
       "      <td>2</td>\n",
       "      <td>lorichen</td>\n",
       "      <td>3</td>\n",
       "    </tr>\n",
       "    <tr>\n",
       "      <th>4</th>\n",
       "      <td>5</td>\n",
       "      <td>2</td>\n",
       "      <td>mariokeller</td>\n",
       "      <td>2</td>\n",
       "    </tr>\n",
       "  </tbody>\n",
       "</table>\n",
       "</div>"
      ],
      "text/plain": [
       "   rating_id  book_id       username  rating\n",
       "0          1        1     ryanfranco       4\n",
       "1          2        1  grantpatricia       2\n",
       "2          3        1   brandtandrea       5\n",
       "3          4        2       lorichen       3\n",
       "4          5        2    mariokeller       2"
      ]
     },
     "execution_count": 6,
     "metadata": {},
     "output_type": "execute_result"
    }
   ],
   "source": [
    "# загрузка и просмотр пяти строк таблицы ratings\n",
    "query = '''\n",
    "SELECT *\n",
    "FROM ratings\n",
    "LIMIT 5;\n",
    "         '''\n",
    "\n",
    "pd.io.sql.read_sql(sql=text(query), con = con)"
   ]
  },
  {
   "cell_type": "markdown",
   "id": "5b50dafc",
   "metadata": {},
   "source": [
    "**Таблица `ratings`**\n",
    "\n",
    "Содержит данные о пользовательских оценках книг:\n",
    "\n",
    "- `rating_id` — идентификатор оценки;\n",
    "- `book_id` — идентификатор книги;\n",
    "- `username` — имя пользователя, оставившего оценку;\n",
    "- `rating` — оценка книги."
   ]
  },
  {
   "cell_type": "code",
   "execution_count": 7,
   "id": "0cfeaf0e",
   "metadata": {},
   "outputs": [
    {
     "data": {
      "text/html": [
       "<div>\n",
       "<style scoped>\n",
       "    .dataframe tbody tr th:only-of-type {\n",
       "        vertical-align: middle;\n",
       "    }\n",
       "\n",
       "    .dataframe tbody tr th {\n",
       "        vertical-align: top;\n",
       "    }\n",
       "\n",
       "    .dataframe thead th {\n",
       "        text-align: right;\n",
       "    }\n",
       "</style>\n",
       "<table border=\"1\" class=\"dataframe\">\n",
       "  <thead>\n",
       "    <tr style=\"text-align: right;\">\n",
       "      <th></th>\n",
       "      <th>review_id</th>\n",
       "      <th>book_id</th>\n",
       "      <th>username</th>\n",
       "      <th>text</th>\n",
       "    </tr>\n",
       "  </thead>\n",
       "  <tbody>\n",
       "    <tr>\n",
       "      <th>0</th>\n",
       "      <td>1</td>\n",
       "      <td>1</td>\n",
       "      <td>brandtandrea</td>\n",
       "      <td>Mention society tell send professor analysis. ...</td>\n",
       "    </tr>\n",
       "    <tr>\n",
       "      <th>1</th>\n",
       "      <td>2</td>\n",
       "      <td>1</td>\n",
       "      <td>ryanfranco</td>\n",
       "      <td>Foot glass pretty audience hit themselves. Amo...</td>\n",
       "    </tr>\n",
       "    <tr>\n",
       "      <th>2</th>\n",
       "      <td>3</td>\n",
       "      <td>2</td>\n",
       "      <td>lorichen</td>\n",
       "      <td>Listen treat keep worry. Miss husband tax but ...</td>\n",
       "    </tr>\n",
       "    <tr>\n",
       "      <th>3</th>\n",
       "      <td>4</td>\n",
       "      <td>3</td>\n",
       "      <td>johnsonamanda</td>\n",
       "      <td>Finally month interesting blue could nature cu...</td>\n",
       "    </tr>\n",
       "    <tr>\n",
       "      <th>4</th>\n",
       "      <td>5</td>\n",
       "      <td>3</td>\n",
       "      <td>scotttamara</td>\n",
       "      <td>Nation purpose heavy give wait song will. List...</td>\n",
       "    </tr>\n",
       "  </tbody>\n",
       "</table>\n",
       "</div>"
      ],
      "text/plain": [
       "   review_id  book_id       username  \\\n",
       "0          1        1   brandtandrea   \n",
       "1          2        1     ryanfranco   \n",
       "2          3        2       lorichen   \n",
       "3          4        3  johnsonamanda   \n",
       "4          5        3    scotttamara   \n",
       "\n",
       "                                                text  \n",
       "0  Mention society tell send professor analysis. ...  \n",
       "1  Foot glass pretty audience hit themselves. Amo...  \n",
       "2  Listen treat keep worry. Miss husband tax but ...  \n",
       "3  Finally month interesting blue could nature cu...  \n",
       "4  Nation purpose heavy give wait song will. List...  "
      ]
     },
     "execution_count": 7,
     "metadata": {},
     "output_type": "execute_result"
    }
   ],
   "source": [
    "# загрузка и просмотр пяти строк таблицы reviews\n",
    "query = '''\n",
    "SELECT *\n",
    "FROM reviews\n",
    "LIMIT 5;\n",
    "         '''\n",
    "pd.io.sql.read_sql(sql=text(query), con = con)"
   ]
  },
  {
   "cell_type": "markdown",
   "id": "2db330b5",
   "metadata": {},
   "source": [
    "**Таблица `reviews`**\n",
    "\n",
    "Содержит данные о пользовательских обзорах на книги:\n",
    "\n",
    "- `review_id` — идентификатор обзора;\n",
    "- `book_id` — идентификатор книги;\n",
    "- `username` — имя пользователя, написавшего обзор;\n",
    "- `text` — текст обзора."
   ]
  },
  {
   "cell_type": "markdown",
   "id": "a9a28916",
   "metadata": {},
   "source": [
    "## Задачи исследования, SQL-запросы"
   ]
  },
  {
   "cell_type": "markdown",
   "id": "26b79466",
   "metadata": {},
   "source": [
    "### Количество книг, вышедших после 1 января 2000 года"
   ]
  },
  {
   "cell_type": "code",
   "execution_count": 8,
   "id": "c1054d54",
   "metadata": {},
   "outputs": [
    {
     "data": {
      "text/html": [
       "<div>\n",
       "<style scoped>\n",
       "    .dataframe tbody tr th:only-of-type {\n",
       "        vertical-align: middle;\n",
       "    }\n",
       "\n",
       "    .dataframe tbody tr th {\n",
       "        vertical-align: top;\n",
       "    }\n",
       "\n",
       "    .dataframe thead th {\n",
       "        text-align: right;\n",
       "    }\n",
       "</style>\n",
       "<table border=\"1\" class=\"dataframe\">\n",
       "  <thead>\n",
       "    <tr style=\"text-align: right;\">\n",
       "      <th></th>\n",
       "      <th>books_count</th>\n",
       "    </tr>\n",
       "  </thead>\n",
       "  <tbody>\n",
       "    <tr>\n",
       "      <th>0</th>\n",
       "      <td>821</td>\n",
       "    </tr>\n",
       "  </tbody>\n",
       "</table>\n",
       "</div>"
      ],
      "text/plain": [
       "   books_count\n",
       "0          821"
      ]
     },
     "execution_count": 8,
     "metadata": {},
     "output_type": "execute_result"
    }
   ],
   "source": [
    "# количество книг\n",
    "query = '''\n",
    "SELECT COUNT(book_id) AS books_count\n",
    "FROM books\n",
    "WHERE CAST(publication_date AS TIMESTAMP) >= '2000-01-01';\n",
    "         '''\n",
    "\n",
    "pd.io.sql.read_sql(sql=text(query), con = con)"
   ]
  },
  {
   "cell_type": "markdown",
   "id": "67ee92bd",
   "metadata": {},
   "source": [
    "С 1 января 2000 года была опубликована 821 книга."
   ]
  },
  {
   "cell_type": "markdown",
   "id": "4e4c31eb",
   "metadata": {},
   "source": [
    "### Количество обзоров и средняя оценка для каждой книги"
   ]
  },
  {
   "cell_type": "code",
   "execution_count": 9,
   "id": "ec786e01",
   "metadata": {},
   "outputs": [
    {
     "data": {
      "text/html": [
       "<div>\n",
       "<style scoped>\n",
       "    .dataframe tbody tr th:only-of-type {\n",
       "        vertical-align: middle;\n",
       "    }\n",
       "\n",
       "    .dataframe tbody tr th {\n",
       "        vertical-align: top;\n",
       "    }\n",
       "\n",
       "    .dataframe thead th {\n",
       "        text-align: right;\n",
       "    }\n",
       "</style>\n",
       "<table border=\"1\" class=\"dataframe\">\n",
       "  <thead>\n",
       "    <tr style=\"text-align: right;\">\n",
       "      <th></th>\n",
       "      <th>books_id</th>\n",
       "      <th>books_title</th>\n",
       "      <th>review_cnt</th>\n",
       "      <th>rating_avg</th>\n",
       "    </tr>\n",
       "  </thead>\n",
       "  <tbody>\n",
       "    <tr>\n",
       "      <th>0</th>\n",
       "      <td>948</td>\n",
       "      <td>Twilight (Twilight  #1)</td>\n",
       "      <td>7</td>\n",
       "      <td>3.66</td>\n",
       "    </tr>\n",
       "    <tr>\n",
       "      <th>1</th>\n",
       "      <td>963</td>\n",
       "      <td>Water for Elephants</td>\n",
       "      <td>6</td>\n",
       "      <td>3.98</td>\n",
       "    </tr>\n",
       "    <tr>\n",
       "      <th>2</th>\n",
       "      <td>734</td>\n",
       "      <td>The Glass Castle</td>\n",
       "      <td>6</td>\n",
       "      <td>4.21</td>\n",
       "    </tr>\n",
       "    <tr>\n",
       "      <th>3</th>\n",
       "      <td>302</td>\n",
       "      <td>Harry Potter and the Prisoner of Azkaban (Harr...</td>\n",
       "      <td>6</td>\n",
       "      <td>4.41</td>\n",
       "    </tr>\n",
       "    <tr>\n",
       "      <th>4</th>\n",
       "      <td>695</td>\n",
       "      <td>The Curious Incident of the Dog in the Night-Time</td>\n",
       "      <td>6</td>\n",
       "      <td>4.08</td>\n",
       "    </tr>\n",
       "    <tr>\n",
       "      <th>...</th>\n",
       "      <td>...</td>\n",
       "      <td>...</td>\n",
       "      <td>...</td>\n",
       "      <td>...</td>\n",
       "    </tr>\n",
       "    <tr>\n",
       "      <th>995</th>\n",
       "      <td>83</td>\n",
       "      <td>Anne Rice's The Vampire Lestat: A Graphic Novel</td>\n",
       "      <td>0</td>\n",
       "      <td>NaN</td>\n",
       "    </tr>\n",
       "    <tr>\n",
       "      <th>996</th>\n",
       "      <td>808</td>\n",
       "      <td>The Natural Way to Draw</td>\n",
       "      <td>0</td>\n",
       "      <td>NaN</td>\n",
       "    </tr>\n",
       "    <tr>\n",
       "      <th>997</th>\n",
       "      <td>672</td>\n",
       "      <td>The Cat in the Hat and Other Dr. Seuss Favorites</td>\n",
       "      <td>0</td>\n",
       "      <td>NaN</td>\n",
       "    </tr>\n",
       "    <tr>\n",
       "      <th>998</th>\n",
       "      <td>221</td>\n",
       "      <td>Essential Tales and Poems</td>\n",
       "      <td>0</td>\n",
       "      <td>NaN</td>\n",
       "    </tr>\n",
       "    <tr>\n",
       "      <th>999</th>\n",
       "      <td>191</td>\n",
       "      <td>Disney's Beauty and the Beast (A Little Golden...</td>\n",
       "      <td>0</td>\n",
       "      <td>NaN</td>\n",
       "    </tr>\n",
       "  </tbody>\n",
       "</table>\n",
       "<p>1000 rows × 4 columns</p>\n",
       "</div>"
      ],
      "text/plain": [
       "     books_id                                        books_title  review_cnt  \\\n",
       "0         948                            Twilight (Twilight  #1)           7   \n",
       "1         963                                Water for Elephants           6   \n",
       "2         734                                   The Glass Castle           6   \n",
       "3         302  Harry Potter and the Prisoner of Azkaban (Harr...           6   \n",
       "4         695  The Curious Incident of the Dog in the Night-Time           6   \n",
       "..        ...                                                ...         ...   \n",
       "995        83    Anne Rice's The Vampire Lestat: A Graphic Novel           0   \n",
       "996       808                            The Natural Way to Draw           0   \n",
       "997       672   The Cat in the Hat and Other Dr. Seuss Favorites           0   \n",
       "998       221                          Essential Tales and Poems           0   \n",
       "999       191  Disney's Beauty and the Beast (A Little Golden...           0   \n",
       "\n",
       "     rating_avg  \n",
       "0          3.66  \n",
       "1          3.98  \n",
       "2          4.21  \n",
       "3          4.41  \n",
       "4          4.08  \n",
       "..          ...  \n",
       "995         NaN  \n",
       "996         NaN  \n",
       "997         NaN  \n",
       "998         NaN  \n",
       "999         NaN  \n",
       "\n",
       "[1000 rows x 4 columns]"
      ]
     },
     "execution_count": 9,
     "metadata": {},
     "output_type": "execute_result"
    }
   ],
   "source": [
    "# количество обзоров и средняя оценка\n",
    "query = '''\n",
    "SELECT books.book_id as books_id,\n",
    "       books.title as books_title,\n",
    "       COUNT(DISTINCT reviews.text) as review_cnt,\n",
    "       ROUND(AVG(ratings.rating), 2) as rating_avg\n",
    "FROM books\n",
    "\n",
    "LEFT JOIN reviews ON reviews.book_id = books.book_id\n",
    "LEFT JOIN ratings ON ratings.book_id = reviews.book_id\n",
    "\n",
    "GROUP BY books_id,\n",
    "         books_title\n",
    "ORDER BY review_cnt DESC;\n",
    "          '''\n",
    "pd.io.sql.read_sql(sql=text(query), con = con)"
   ]
  },
  {
   "cell_type": "markdown",
   "id": "132a26d4",
   "metadata": {},
   "source": [
    "Лидирующую позицию по количеству обзоров занимает книга под названием \"Twilight\" и среднюю оценку 3,7 из 5-ти. Далее остальные книги имеют рецензии в количестве 6 и менее, а оценки варьируются.\n"
   ]
  },
  {
   "cell_type": "markdown",
   "id": "dda61399",
   "metadata": {},
   "source": [
    "### Издательство, которое выпустило наибольшее число книг толще 50 страниц"
   ]
  },
  {
   "cell_type": "code",
   "execution_count": 10,
   "id": "2c50edb9",
   "metadata": {
    "scrolled": true
   },
   "outputs": [
    {
     "data": {
      "text/html": [
       "<div>\n",
       "<style scoped>\n",
       "    .dataframe tbody tr th:only-of-type {\n",
       "        vertical-align: middle;\n",
       "    }\n",
       "\n",
       "    .dataframe tbody tr th {\n",
       "        vertical-align: top;\n",
       "    }\n",
       "\n",
       "    .dataframe thead th {\n",
       "        text-align: right;\n",
       "    }\n",
       "</style>\n",
       "<table border=\"1\" class=\"dataframe\">\n",
       "  <thead>\n",
       "    <tr style=\"text-align: right;\">\n",
       "      <th></th>\n",
       "      <th>publisher_id</th>\n",
       "      <th>publisher</th>\n",
       "      <th>books_count</th>\n",
       "    </tr>\n",
       "  </thead>\n",
       "  <tbody>\n",
       "    <tr>\n",
       "      <th>0</th>\n",
       "      <td>212</td>\n",
       "      <td>Penguin Books</td>\n",
       "      <td>42</td>\n",
       "    </tr>\n",
       "  </tbody>\n",
       "</table>\n",
       "</div>"
      ],
      "text/plain": [
       "   publisher_id      publisher  books_count\n",
       "0           212  Penguin Books           42"
      ]
     },
     "execution_count": 10,
     "metadata": {},
     "output_type": "execute_result"
    }
   ],
   "source": [
    "# количество книг по издательствам и средняя оценка\n",
    "query = '''\n",
    "SELECT publishers.publisher_id, \n",
    "       publishers.publisher, \n",
    "       COUNT(books.book_id) as books_count\n",
    "FROM publishers\n",
    "JOIN books ON publishers.publisher_id = books.publisher_id\n",
    "WHERE books.num_pages > 50\n",
    "GROUP BY publishers.publisher_id\n",
    "ORDER BY books_count DESC\n",
    "LIMIT 1;\n",
    "         ''' \n",
    "pd.io.sql.read_sql(sql=text(query), con = con)"
   ]
  },
  {
   "cell_type": "markdown",
   "id": "cec3e1c7",
   "metadata": {},
   "source": [
    "Наибольшее количество книг выпущено издетельством Penguin Books. В общем количестве 42 шт."
   ]
  },
  {
   "cell_type": "markdown",
   "id": "2356899f",
   "metadata": {},
   "source": [
    "### Автор с самой высокой средней оценкой книг с 50 и более оценками"
   ]
  },
  {
   "cell_type": "code",
   "execution_count": 15,
   "id": "a651d356",
   "metadata": {},
   "outputs": [
    {
     "data": {
      "text/html": [
       "<div>\n",
       "<style scoped>\n",
       "    .dataframe tbody tr th:only-of-type {\n",
       "        vertical-align: middle;\n",
       "    }\n",
       "\n",
       "    .dataframe tbody tr th {\n",
       "        vertical-align: top;\n",
       "    }\n",
       "\n",
       "    .dataframe thead th {\n",
       "        text-align: right;\n",
       "    }\n",
       "</style>\n",
       "<table border=\"1\" class=\"dataframe\">\n",
       "  <thead>\n",
       "    <tr style=\"text-align: right;\">\n",
       "      <th></th>\n",
       "      <th>author</th>\n",
       "      <th>rating_avg</th>\n",
       "    </tr>\n",
       "  </thead>\n",
       "  <tbody>\n",
       "    <tr>\n",
       "      <th>0</th>\n",
       "      <td>J.K. Rowling/Mary GrandPré</td>\n",
       "      <td>4.29</td>\n",
       "    </tr>\n",
       "  </tbody>\n",
       "</table>\n",
       "</div>"
      ],
      "text/plain": [
       "                       author  rating_avg\n",
       "0  J.K. Rowling/Mary GrandPré        4.29"
      ]
     },
     "execution_count": 15,
     "metadata": {},
     "output_type": "execute_result"
    }
   ],
   "source": [
    "# автор с самой высокой средней оценкой\n",
    "query = ''' \n",
    "SELECT authors.author, \n",
    "       ROUND(AVG(ratings.rating), 2) AS rating_avg\n",
    "FROM books\n",
    "JOIN ratings ON books.book_id = ratings.book_id\n",
    "JOIN authors ON books.author_id = authors.author_id\n",
    "WHERE books.book_id IN (SELECT book_id \n",
    "                        FROM ratings \n",
    "                        GROUP BY book_id \n",
    "                        HAVING COUNT(*) >= 50)\n",
    "GROUP BY authors.author\n",
    "ORDER BY rating_avg DESC\n",
    "LIMIT 1; \n",
    "        '''\n",
    "\n",
    "pd.io.sql.read_sql(sql=text(query), con = con)"
   ]
  },
  {
   "cell_type": "markdown",
   "id": "d0ff22fa",
   "metadata": {},
   "source": [
    "При учете книг с оценками 50 и более самую высокую среднюю оценку имеет автор J.K. Rowling и Mary GrandPré(иллюстратор)."
   ]
  },
  {
   "cell_type": "markdown",
   "id": "534073ca",
   "metadata": {},
   "source": [
    "### Среднее количество обзоров от пользователей, которые поставили больше 48 оценок."
   ]
  },
  {
   "cell_type": "code",
   "execution_count": 12,
   "id": "ee11ba93",
   "metadata": {},
   "outputs": [
    {
     "data": {
      "text/html": [
       "<div>\n",
       "<style scoped>\n",
       "    .dataframe tbody tr th:only-of-type {\n",
       "        vertical-align: middle;\n",
       "    }\n",
       "\n",
       "    .dataframe tbody tr th {\n",
       "        vertical-align: top;\n",
       "    }\n",
       "\n",
       "    .dataframe thead th {\n",
       "        text-align: right;\n",
       "    }\n",
       "</style>\n",
       "<table border=\"1\" class=\"dataframe\">\n",
       "  <thead>\n",
       "    <tr style=\"text-align: right;\">\n",
       "      <th></th>\n",
       "      <th>reviews_count_avg</th>\n",
       "    </tr>\n",
       "  </thead>\n",
       "  <tbody>\n",
       "    <tr>\n",
       "      <th>0</th>\n",
       "      <td>24.0</td>\n",
       "    </tr>\n",
       "  </tbody>\n",
       "</table>\n",
       "</div>"
      ],
      "text/plain": [
       "   reviews_count_avg\n",
       "0               24.0"
      ]
     },
     "execution_count": 12,
     "metadata": {},
     "output_type": "execute_result"
    }
   ],
   "source": [
    "# автор с самой высокой оценкой книг c 50-тью и более\n",
    "query = '''\n",
    "SELECT ROUND(AVG(second.reviews), 3) AS reviews_count_avg\n",
    "FROM (SELECT username,\n",
    "      COUNT(rating) AS ratings\n",
    "      FROM ratings\n",
    "      GROUP BY username\n",
    "      HAVING COUNT(rating) > 48) AS first\n",
    "JOIN (SELECT username,\n",
    "      COUNT(text) AS reviews\n",
    "      FROM reviews\n",
    "      GROUP BY username) AS second ON first.username=second.username;\n",
    "         '''\n",
    "pd.io.sql.read_sql(sql=text(query), con = con)"
   ]
  },
  {
   "cell_type": "markdown",
   "id": "ac7293d5",
   "metadata": {},
   "source": [
    "От пользователей, которые поставили более 48 оценок среднее количество обзоров составляет 24 шт."
   ]
  },
  {
   "cell_type": "markdown",
   "id": "892e801f",
   "metadata": {},
   "source": [
    "### Дополнительное задание"
   ]
  },
  {
   "cell_type": "markdown",
   "id": "4761b5ac",
   "metadata": {},
   "source": [
    "Выведите таблицу, которая будет содержать по году публикации:\n",
    "\n",
    "- количество издательств,\n",
    "\n",
    "- выпущенных книг \n",
    "\n",
    "- сколько всего тысяч страниц было в изданных книгах\n",
    "\n",
    "(отобразить только те года, в которых издано более 30 книг)"
   ]
  },
  {
   "cell_type": "code",
   "execution_count": 13,
   "id": "006c0d64",
   "metadata": {
    "scrolled": true
   },
   "outputs": [
    {
     "data": {
      "text/html": [
       "<div>\n",
       "<style scoped>\n",
       "    .dataframe tbody tr th:only-of-type {\n",
       "        vertical-align: middle;\n",
       "    }\n",
       "\n",
       "    .dataframe tbody tr th {\n",
       "        vertical-align: top;\n",
       "    }\n",
       "\n",
       "    .dataframe thead th {\n",
       "        text-align: right;\n",
       "    }\n",
       "</style>\n",
       "<table border=\"1\" class=\"dataframe\">\n",
       "  <thead>\n",
       "    <tr style=\"text-align: right;\">\n",
       "      <th></th>\n",
       "      <th>year</th>\n",
       "      <th>publishers_count</th>\n",
       "      <th>books_count</th>\n",
       "      <th>pages_of_1000</th>\n",
       "    </tr>\n",
       "  </thead>\n",
       "  <tbody>\n",
       "    <tr>\n",
       "      <th>0</th>\n",
       "      <td>1999.0</td>\n",
       "      <td>26</td>\n",
       "      <td>41</td>\n",
       "      <td>15</td>\n",
       "    </tr>\n",
       "    <tr>\n",
       "      <th>1</th>\n",
       "      <td>2000.0</td>\n",
       "      <td>35</td>\n",
       "      <td>38</td>\n",
       "      <td>13</td>\n",
       "    </tr>\n",
       "    <tr>\n",
       "      <th>2</th>\n",
       "      <td>2001.0</td>\n",
       "      <td>41</td>\n",
       "      <td>60</td>\n",
       "      <td>21</td>\n",
       "    </tr>\n",
       "    <tr>\n",
       "      <th>3</th>\n",
       "      <td>2002.0</td>\n",
       "      <td>62</td>\n",
       "      <td>94</td>\n",
       "      <td>38</td>\n",
       "    </tr>\n",
       "    <tr>\n",
       "      <th>4</th>\n",
       "      <td>2003.0</td>\n",
       "      <td>65</td>\n",
       "      <td>105</td>\n",
       "      <td>41</td>\n",
       "    </tr>\n",
       "    <tr>\n",
       "      <th>5</th>\n",
       "      <td>2004.0</td>\n",
       "      <td>88</td>\n",
       "      <td>124</td>\n",
       "      <td>46</td>\n",
       "    </tr>\n",
       "    <tr>\n",
       "      <th>6</th>\n",
       "      <td>2005.0</td>\n",
       "      <td>89</td>\n",
       "      <td>139</td>\n",
       "      <td>55</td>\n",
       "    </tr>\n",
       "    <tr>\n",
       "      <th>7</th>\n",
       "      <td>2006.0</td>\n",
       "      <td>109</td>\n",
       "      <td>184</td>\n",
       "      <td>68</td>\n",
       "    </tr>\n",
       "    <tr>\n",
       "      <th>8</th>\n",
       "      <td>2007.0</td>\n",
       "      <td>38</td>\n",
       "      <td>50</td>\n",
       "      <td>18</td>\n",
       "    </tr>\n",
       "  </tbody>\n",
       "</table>\n",
       "</div>"
      ],
      "text/plain": [
       "     year  publishers_count  books_count  pages_of_1000\n",
       "0  1999.0                26           41             15\n",
       "1  2000.0                35           38             13\n",
       "2  2001.0                41           60             21\n",
       "3  2002.0                62           94             38\n",
       "4  2003.0                65          105             41\n",
       "5  2004.0                88          124             46\n",
       "6  2005.0                89          139             55\n",
       "7  2006.0               109          184             68\n",
       "8  2007.0                38           50             18"
      ]
     },
     "execution_count": 13,
     "metadata": {},
     "output_type": "execute_result"
    }
   ],
   "source": [
    "query = ''' \n",
    "SELECT \n",
    "    EXTRACT(YEAR from (books.publication_date)) AS year,\n",
    "    COUNT(DISTINCT publishers.publisher_id) AS publishers_count,\n",
    "    COUNT(DISTINCT books.book_id) AS books_count,\n",
    "    SUM(books.num_pages) / 1000 AS pages_of_1000\n",
    "FROM books\n",
    "JOIN publishers ON books.publisher_id=publishers.publisher_id\n",
    "GROUP BY year\n",
    "HAVING COUNT(DISTINCT books.book_id) > 30\n",
    "ORDER BY year;\n",
    "        '''\n",
    "pd.io.sql.read_sql(sql=text(query), con = con)"
   ]
  },
  {
   "cell_type": "markdown",
   "id": "dd11727c",
   "metadata": {},
   "source": [
    "В период с 1999 по 2007 в год издавалось более 30 книг."
   ]
  },
  {
   "cell_type": "markdown",
   "id": "764d3c37",
   "metadata": {},
   "source": [
    "## Выводы\n",
    "В ходе исследования была проанализирована база данных сервиса чтения книг.\n",
    "\n",
    "База данных включает 5 таблиц, схема которых представлена в описании задачи:\n",
    "- books\n",
    "- authors\n",
    "- publishers\n",
    "- ratings\n",
    "- reviews.\n",
    "\n",
    "Итоги по запросам:\n",
    "1. Количество книг, вышедших после 1 января 2000 года: 821 шт.\n",
    "2. Лидирующую позицию по количеству обзоров занимает книга под названием \"Twilight\" и среднюю оценку 3,7 из 5-ти. Далее остальные книги имеют рецензии в количестве 6 и менее, а оценки варьируются. В выведенной таблице еть данные по всем книгам.\n",
    "3. Больше всего книг выпустило издательство Penguin Books\n",
    "4. Автор с самой высокой средней оценкой книг: J.K. Rowling\n",
    "5. Пользователи, оставившие более 50 оценок, в среднем написали 24 ревью."
   ]
  },
  {
   "cell_type": "markdown",
   "id": "9f845006",
   "metadata": {},
   "source": [
    "***"
   ]
  }
 ],
 "metadata": {
  "ExecuteTimeLog": [
   {
    "duration": 547,
    "start_time": "2023-05-28T12:51:20.499Z"
   },
   {
    "duration": 8476,
    "start_time": "2023-05-28T12:51:52.283Z"
   },
   {
    "duration": 233,
    "start_time": "2023-05-28T12:52:53.461Z"
   },
   {
    "duration": 14,
    "start_time": "2023-05-28T12:53:07.204Z"
   },
   {
    "duration": 237,
    "start_time": "2023-05-28T12:55:06.255Z"
   },
   {
    "duration": 7,
    "start_time": "2023-05-28T12:55:15.019Z"
   },
   {
    "duration": 263,
    "start_time": "2023-05-28T12:57:24.549Z"
   },
   {
    "duration": 233,
    "start_time": "2023-05-28T12:57:40.360Z"
   },
   {
    "duration": 241,
    "start_time": "2023-05-28T12:59:56.658Z"
   },
   {
    "duration": 234,
    "start_time": "2023-05-28T13:01:22.802Z"
   },
   {
    "duration": 273,
    "start_time": "2023-05-28T13:05:05.610Z"
   },
   {
    "duration": 405,
    "start_time": "2023-05-28T13:15:57.156Z"
   },
   {
    "duration": 325,
    "start_time": "2023-05-28T13:17:21.878Z"
   },
   {
    "duration": 227,
    "start_time": "2023-05-28T13:18:42.883Z"
   },
   {
    "duration": 248,
    "start_time": "2023-05-28T13:20:22.691Z"
   },
   {
    "duration": 351,
    "start_time": "2023-05-28T13:29:36.659Z"
   },
   {
    "duration": 346,
    "start_time": "2023-05-28T13:29:54.760Z"
   },
   {
    "duration": 268,
    "start_time": "2023-05-28T13:30:38.186Z"
   },
   {
    "duration": 278,
    "start_time": "2023-05-28T13:31:01.193Z"
   },
   {
    "duration": 288,
    "start_time": "2023-05-28T13:32:30.221Z"
   },
   {
    "duration": 276,
    "start_time": "2023-05-28T13:33:28.569Z"
   },
   {
    "duration": 284,
    "start_time": "2023-05-28T13:33:46.956Z"
   },
   {
    "duration": 304,
    "start_time": "2023-05-28T13:41:14.375Z"
   },
   {
    "duration": 251,
    "start_time": "2023-05-28T13:46:22.071Z"
   },
   {
    "duration": 356,
    "start_time": "2023-05-28T13:47:31.985Z"
   },
   {
    "duration": 313,
    "start_time": "2023-05-28T13:47:48.806Z"
   },
   {
    "duration": 7,
    "start_time": "2023-05-28T13:49:20.366Z"
   },
   {
    "duration": 276,
    "start_time": "2023-05-28T13:52:00.364Z"
   },
   {
    "duration": 233,
    "start_time": "2023-05-28T13:53:53.706Z"
   },
   {
    "duration": 241,
    "start_time": "2023-05-28T13:55:40.942Z"
   },
   {
    "duration": 3,
    "start_time": "2023-05-28T14:00:28.414Z"
   },
   {
    "duration": 145,
    "start_time": "2023-05-28T14:00:57.080Z"
   },
   {
    "duration": 170,
    "start_time": "2023-05-28T14:01:47.384Z"
   },
   {
    "duration": 75,
    "start_time": "2023-05-28T14:03:46.460Z"
   },
   {
    "duration": 245,
    "start_time": "2023-05-28T14:05:39.072Z"
   },
   {
    "duration": 3,
    "start_time": "2023-05-28T14:13:38.601Z"
   },
   {
    "duration": 71,
    "start_time": "2023-05-28T14:13:58.441Z"
   },
   {
    "duration": 2,
    "start_time": "2023-05-28T14:16:08.302Z"
   },
   {
    "duration": 71,
    "start_time": "2023-05-28T14:16:10.289Z"
   },
   {
    "duration": 3,
    "start_time": "2023-05-28T14:18:22.080Z"
   },
   {
    "duration": 153,
    "start_time": "2023-05-28T14:18:22.652Z"
   },
   {
    "duration": 3,
    "start_time": "2023-05-28T14:18:33.568Z"
   },
   {
    "duration": 174,
    "start_time": "2023-05-28T14:18:34.219Z"
   },
   {
    "duration": 3,
    "start_time": "2023-05-28T14:21:08.980Z"
   },
   {
    "duration": 71,
    "start_time": "2023-05-28T14:21:09.656Z"
   },
   {
    "duration": 2,
    "start_time": "2023-05-28T14:21:18.174Z"
   },
   {
    "duration": 72,
    "start_time": "2023-05-28T14:21:18.856Z"
   },
   {
    "duration": 2,
    "start_time": "2023-05-28T14:22:32.486Z"
   },
   {
    "duration": 71,
    "start_time": "2023-05-28T14:22:32.911Z"
   },
   {
    "duration": 3,
    "start_time": "2023-05-28T14:22:58.700Z"
   },
   {
    "duration": 69,
    "start_time": "2023-05-28T14:22:59.282Z"
   },
   {
    "duration": 69,
    "start_time": "2023-05-28T14:24:28.300Z"
   },
   {
    "duration": 70,
    "start_time": "2023-05-28T14:24:57.985Z"
   },
   {
    "duration": 478,
    "start_time": "2023-05-28T14:29:31.470Z"
   },
   {
    "duration": 8848,
    "start_time": "2023-05-28T14:29:31.950Z"
   },
   {
    "duration": 239,
    "start_time": "2023-05-28T14:29:40.800Z"
   },
   {
    "duration": 68,
    "start_time": "2023-05-28T14:29:41.040Z"
   },
   {
    "duration": 68,
    "start_time": "2023-05-28T14:29:41.109Z"
   },
   {
    "duration": 68,
    "start_time": "2023-05-28T14:29:41.178Z"
   },
   {
    "duration": 68,
    "start_time": "2023-05-28T14:29:41.248Z"
   },
   {
    "duration": 67,
    "start_time": "2023-05-28T14:29:41.318Z"
   },
   {
    "duration": 108,
    "start_time": "2023-05-28T14:29:41.387Z"
   },
   {
    "duration": 69,
    "start_time": "2023-05-28T14:29:41.496Z"
   },
   {
    "duration": 71,
    "start_time": "2023-05-28T14:29:41.566Z"
   },
   {
    "duration": 69,
    "start_time": "2023-05-28T14:29:41.639Z"
   },
   {
    "duration": 68,
    "start_time": "2023-05-28T14:56:32.367Z"
   },
   {
    "duration": 68,
    "start_time": "2023-05-28T14:56:59.875Z"
   },
   {
    "duration": 69,
    "start_time": "2023-05-28T14:57:09.089Z"
   },
   {
    "duration": 72,
    "start_time": "2023-05-28T14:57:31.116Z"
   },
   {
    "duration": 115,
    "start_time": "2023-05-28T14:58:05.710Z"
   },
   {
    "duration": 69,
    "start_time": "2023-05-28T14:58:28.463Z"
   },
   {
    "duration": 76,
    "start_time": "2023-05-28T14:59:22.845Z"
   },
   {
    "duration": 505,
    "start_time": "2023-06-01T04:33:56.291Z"
   },
   {
    "duration": 12146,
    "start_time": "2023-06-01T04:33:56.798Z"
   },
   {
    "duration": 57,
    "start_time": "2023-06-01T04:34:08.945Z"
   },
   {
    "duration": 10,
    "start_time": "2023-06-01T04:34:09.004Z"
   },
   {
    "duration": 13,
    "start_time": "2023-06-01T04:34:09.016Z"
   },
   {
    "duration": 12,
    "start_time": "2023-06-01T04:34:09.030Z"
   },
   {
    "duration": 28,
    "start_time": "2023-06-01T04:34:09.044Z"
   },
   {
    "duration": 12,
    "start_time": "2023-06-01T04:34:09.074Z"
   },
   {
    "duration": 36,
    "start_time": "2023-06-01T04:34:09.088Z"
   },
   {
    "duration": 11,
    "start_time": "2023-06-01T04:34:09.127Z"
   },
   {
    "duration": 21,
    "start_time": "2023-06-01T04:34:09.140Z"
   },
   {
    "duration": 12,
    "start_time": "2023-06-01T04:34:09.163Z"
   },
   {
    "duration": 36,
    "start_time": "2023-06-01T04:34:32.044Z"
   },
   {
    "duration": 34,
    "start_time": "2023-06-01T04:34:38.233Z"
   },
   {
    "duration": 18,
    "start_time": "2023-06-01T04:34:54.716Z"
   },
   {
    "duration": 16,
    "start_time": "2023-06-01T04:35:00.457Z"
   },
   {
    "duration": 500,
    "start_time": "2023-06-01T04:57:13.215Z"
   },
   {
    "duration": 14042,
    "start_time": "2023-06-01T04:57:13.716Z"
   },
   {
    "duration": 70,
    "start_time": "2023-06-01T04:57:27.764Z"
   },
   {
    "duration": 13,
    "start_time": "2023-06-01T04:57:27.836Z"
   },
   {
    "duration": 37,
    "start_time": "2023-06-01T04:57:27.853Z"
   },
   {
    "duration": 12,
    "start_time": "2023-06-01T04:57:27.891Z"
   },
   {
    "duration": 11,
    "start_time": "2023-06-01T04:57:27.905Z"
   },
   {
    "duration": 9,
    "start_time": "2023-06-01T04:57:27.917Z"
   },
   {
    "duration": 60,
    "start_time": "2023-06-01T04:57:27.928Z"
   },
   {
    "duration": 13,
    "start_time": "2023-06-01T04:57:27.990Z"
   },
   {
    "duration": 16,
    "start_time": "2023-06-01T04:57:28.004Z"
   },
   {
    "duration": 15,
    "start_time": "2023-06-01T04:57:28.022Z"
   },
   {
    "duration": 59,
    "start_time": "2023-06-01T04:57:47.733Z"
   },
   {
    "duration": 95,
    "start_time": "2023-06-01T04:59:48.729Z"
   },
   {
    "duration": 16,
    "start_time": "2023-06-01T05:09:35.574Z"
   },
   {
    "duration": 28,
    "start_time": "2023-06-01T05:13:36.243Z"
   },
   {
    "duration": 15,
    "start_time": "2023-06-01T05:14:18.906Z"
   },
   {
    "duration": 13,
    "start_time": "2023-06-01T05:20:58.190Z"
   },
   {
    "duration": 74,
    "start_time": "2023-06-01T05:21:42.041Z"
   },
   {
    "duration": 45,
    "start_time": "2023-06-01T05:22:04.043Z"
   },
   {
    "duration": 586,
    "start_time": "2023-06-01T05:22:43.829Z"
   },
   {
    "duration": 134,
    "start_time": "2023-06-01T05:22:44.418Z"
   },
   {
    "duration": 0,
    "start_time": "2023-06-01T05:22:44.554Z"
   },
   {
    "duration": 0,
    "start_time": "2023-06-01T05:22:44.555Z"
   },
   {
    "duration": 0,
    "start_time": "2023-06-01T05:22:44.556Z"
   },
   {
    "duration": 0,
    "start_time": "2023-06-01T05:22:44.557Z"
   },
   {
    "duration": 0,
    "start_time": "2023-06-01T05:22:44.558Z"
   },
   {
    "duration": 0,
    "start_time": "2023-06-01T05:22:44.559Z"
   },
   {
    "duration": 0,
    "start_time": "2023-06-01T05:22:44.562Z"
   },
   {
    "duration": 0,
    "start_time": "2023-06-01T05:22:44.563Z"
   },
   {
    "duration": 0,
    "start_time": "2023-06-01T05:22:44.564Z"
   },
   {
    "duration": 0,
    "start_time": "2023-06-01T05:22:44.565Z"
   },
   {
    "duration": 0,
    "start_time": "2023-06-01T05:22:44.567Z"
   },
   {
    "duration": 12768,
    "start_time": "2023-06-01T05:23:04.340Z"
   },
   {
    "duration": 20,
    "start_time": "2023-06-01T05:23:17.110Z"
   },
   {
    "duration": 13,
    "start_time": "2023-06-01T05:23:58.887Z"
   },
   {
    "duration": 15,
    "start_time": "2023-06-01T05:24:09.862Z"
   },
   {
    "duration": 11,
    "start_time": "2023-06-01T05:24:19.676Z"
   },
   {
    "duration": 13,
    "start_time": "2023-06-01T05:24:32.670Z"
   },
   {
    "duration": 11,
    "start_time": "2023-06-01T05:24:42.080Z"
   },
   {
    "duration": 39,
    "start_time": "2023-06-01T05:24:51.989Z"
   },
   {
    "duration": 13,
    "start_time": "2023-06-01T05:25:21.660Z"
   },
   {
    "duration": 15,
    "start_time": "2023-06-01T05:25:30.528Z"
   },
   {
    "duration": 15,
    "start_time": "2023-06-01T05:25:57.192Z"
   },
   {
    "duration": 18,
    "start_time": "2023-06-01T05:26:31.080Z"
   },
   {
    "duration": 16,
    "start_time": "2023-06-01T05:26:43.468Z"
   },
   {
    "duration": 88,
    "start_time": "2023-06-01T05:29:52.617Z"
   },
   {
    "duration": 31,
    "start_time": "2023-06-01T05:30:29.065Z"
   },
   {
    "duration": 14,
    "start_time": "2023-06-01T05:32:12.681Z"
   },
   {
    "duration": 30,
    "start_time": "2023-06-01T05:35:25.863Z"
   },
   {
    "duration": 22,
    "start_time": "2023-06-01T05:35:35.743Z"
   },
   {
    "duration": 30,
    "start_time": "2023-06-01T05:35:44.510Z"
   },
   {
    "duration": 13,
    "start_time": "2023-06-01T05:35:58.072Z"
   },
   {
    "duration": 14,
    "start_time": "2023-06-01T05:40:58.425Z"
   },
   {
    "duration": 13,
    "start_time": "2023-06-01T05:41:46.964Z"
   },
   {
    "duration": 2,
    "start_time": "2023-06-01T05:48:28.567Z"
   },
   {
    "duration": 503,
    "start_time": "2023-06-01T05:53:02.311Z"
   },
   {
    "duration": 12268,
    "start_time": "2023-06-01T05:53:02.816Z"
   },
   {
    "duration": 19,
    "start_time": "2023-06-01T05:53:15.086Z"
   },
   {
    "duration": 9,
    "start_time": "2023-06-01T05:53:15.107Z"
   },
   {
    "duration": 21,
    "start_time": "2023-06-01T05:53:15.118Z"
   },
   {
    "duration": 17,
    "start_time": "2023-06-01T05:53:15.141Z"
   },
   {
    "duration": 15,
    "start_time": "2023-06-01T05:53:15.159Z"
   },
   {
    "duration": 12,
    "start_time": "2023-06-01T05:53:15.175Z"
   },
   {
    "duration": 36,
    "start_time": "2023-06-01T05:53:15.189Z"
   },
   {
    "duration": 13,
    "start_time": "2023-06-01T05:53:15.227Z"
   },
   {
    "duration": 28,
    "start_time": "2023-06-01T05:53:15.242Z"
   },
   {
    "duration": 13,
    "start_time": "2023-06-01T05:53:15.272Z"
   },
   {
    "duration": 41,
    "start_time": "2023-06-01T05:53:15.287Z"
   },
   {
    "duration": 13,
    "start_time": "2023-06-01T05:58:04.721Z"
   },
   {
    "duration": 18,
    "start_time": "2023-06-01T05:58:24.284Z"
   },
   {
    "duration": 15,
    "start_time": "2023-06-01T05:59:04.865Z"
   },
   {
    "duration": 21,
    "start_time": "2023-06-01T05:59:56.567Z"
   },
   {
    "duration": 17,
    "start_time": "2023-06-01T06:00:31.875Z"
   },
   {
    "duration": 560,
    "start_time": "2023-06-01T06:01:39.093Z"
   },
   {
    "duration": 14652,
    "start_time": "2023-06-01T06:01:39.657Z"
   },
   {
    "duration": 27,
    "start_time": "2023-06-01T06:01:54.312Z"
   },
   {
    "duration": 19,
    "start_time": "2023-06-01T06:01:54.342Z"
   },
   {
    "duration": 40,
    "start_time": "2023-06-01T06:01:54.363Z"
   },
   {
    "duration": 17,
    "start_time": "2023-06-01T06:01:54.406Z"
   },
   {
    "duration": 18,
    "start_time": "2023-06-01T06:01:54.425Z"
   },
   {
    "duration": 27,
    "start_time": "2023-06-01T06:01:54.446Z"
   },
   {
    "duration": 60,
    "start_time": "2023-06-01T06:01:54.475Z"
   },
   {
    "duration": 12,
    "start_time": "2023-06-01T06:01:54.539Z"
   },
   {
    "duration": 36,
    "start_time": "2023-06-01T06:01:54.552Z"
   },
   {
    "duration": 12,
    "start_time": "2023-06-01T06:01:54.591Z"
   },
   {
    "duration": 13,
    "start_time": "2023-06-01T06:01:54.605Z"
   },
   {
    "duration": 653,
    "start_time": "2023-06-01T08:24:56.186Z"
   },
   {
    "duration": 14473,
    "start_time": "2023-06-01T08:24:56.843Z"
   },
   {
    "duration": 24,
    "start_time": "2023-06-01T08:25:11.318Z"
   },
   {
    "duration": 22,
    "start_time": "2023-06-01T08:25:11.344Z"
   },
   {
    "duration": 23,
    "start_time": "2023-06-01T08:25:11.369Z"
   },
   {
    "duration": 16,
    "start_time": "2023-06-01T08:25:11.395Z"
   },
   {
    "duration": 15,
    "start_time": "2023-06-01T08:25:11.413Z"
   },
   {
    "duration": 10,
    "start_time": "2023-06-01T08:25:11.431Z"
   },
   {
    "duration": 52,
    "start_time": "2023-06-01T08:25:11.443Z"
   },
   {
    "duration": 13,
    "start_time": "2023-06-01T08:25:11.496Z"
   },
   {
    "duration": 17,
    "start_time": "2023-06-01T08:25:11.512Z"
   },
   {
    "duration": 36,
    "start_time": "2023-06-01T08:25:11.532Z"
   },
   {
    "duration": 20,
    "start_time": "2023-06-01T08:25:11.570Z"
   },
   {
    "duration": 15,
    "start_time": "2023-06-01T08:25:46.525Z"
   },
   {
    "duration": 14,
    "start_time": "2023-06-01T08:25:47.804Z"
   }
  ],
  "kernelspec": {
   "display_name": "Python 3 (ipykernel)",
   "language": "python",
   "name": "python3"
  },
  "language_info": {
   "codemirror_mode": {
    "name": "ipython",
    "version": 3
   },
   "file_extension": ".py",
   "mimetype": "text/x-python",
   "name": "python",
   "nbconvert_exporter": "python",
   "pygments_lexer": "ipython3",
   "version": "3.9.13"
  },
  "toc": {
   "base_numbering": 1,
   "nav_menu": {},
   "number_sections": true,
   "sideBar": true,
   "skip_h1_title": true,
   "title_cell": "Table of Contents",
   "title_sidebar": "Contents",
   "toc_cell": false,
   "toc_position": {},
   "toc_section_display": true,
   "toc_window_display": false
  }
 },
 "nbformat": 4,
 "nbformat_minor": 5
}
